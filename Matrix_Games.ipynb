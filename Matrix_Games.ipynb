{
 "cells": [
  {
   "cell_type": "code",
   "execution_count": null,
   "id": "9c0e4709",
   "metadata": {},
   "outputs": [],
   "source": [
    "import random"
   ]
  },
  {
   "cell_type": "code",
   "execution_count": null,
   "id": "8aa41212",
   "metadata": {},
   "outputs": [],
   "source": [
    "MOVEMENT = ['w','a','s','d']\n",
    "PG = \"k\""
   ]
  },
  {
   "cell_type": "code",
   "execution_count": null,
   "id": "38b2da89",
   "metadata": {},
   "outputs": [],
   "source": [
    "def generate_map():\n",
    "    \"\"\"Generate an NxN map \"\"\"\n",
    "    N = 5\n",
    "    return [[0]*N for i in range(N)]\n",
    "\n",
    "\n",
    "def generate_tuple():\n",
    "    \"\"\"Generate a set of tuples,\n",
    "       just change the 7 to have more or less\"\"\"\n",
    "    return random.sample( [ (i, j) for i in range(5) for j in range(5) ], 7)\n",
    "\n",
    "\n",
    "def fill_map(a_map, set_tuple):\n",
    "    \"\"\"Fills the map with a '1' instead of a 0\"\"\"\n",
    "    for xx in set_tuple:\n",
    "        a_map[xx[0]][xx[1]] = 1\n",
    "    a_map[0][0] = PG\n",
    "    return a_map\n",
    "\n",
    "\n",
    "def find_PG(a_map):\n",
    "    \"\"\" Find the location of the character on the map \"\"\"\n",
    "    for idx, lst in enumerate(a_map):\n",
    "        if PG in lst:\n",
    "            return idx, lst.index(PG)\n",
    "        \n",
    "        \n",
    "def validity_movement(a_map, new_pos):\n",
    "    \"\"\" Defines whether the move is valid \"\"\"\n",
    "    righe, colonne = new_pos\n",
    "    num_righe = len(a_map[0])\n",
    "    num_colonne = len(a_map)\n",
    "    if 0 <= righe < num_righe and 0 <= colonne < num_colonne:\n",
    "        return True\n",
    "    return False\n",
    "\n",
    "def make_move(a_map, new_move):\n",
    "    \"\"\" Function that concretizes the movement \"\"\"\n",
    "    old_move = find_PG(a_map)\n",
    "    righe, colonne = new_move\n",
    "    for idx, lst in enumerate(a_map):\n",
    "        a_map[old_move[0]][old_move[1]] = 0\n",
    "        a_map[righe][colonne] = PG\n",
    "    return a_map\n"
   ]
  },
  {
   "cell_type": "code",
   "execution_count": null,
   "id": "ebec2893",
   "metadata": {},
   "outputs": [],
   "source": [
    "def check_array(array):\n",
    "    \"\"\" Function that evaluates the end of the game \"\"\"\n",
    "    if any(1 in r for r in array):\n",
    "        return True\n",
    "    else:\n",
    "        print(\"You Win!!\")\n",
    "        return False"
   ]
  },
  {
   "cell_type": "code",
   "execution_count": null,
   "id": "bd81e67f-bc79-4407-8be0-6205ea5d4b0d",
   "metadata": {},
   "outputs": [],
   "source": [
    "# # Location of objects across data tuples\n",
    "objects = generate_tuple()\n",
    "# creation of the square matrix of 0\n",
    "zeros = generate_map()"
   ]
  },
  {
   "cell_type": "code",
   "execution_count": null,
   "id": "4cb4a697",
   "metadata": {},
   "outputs": [],
   "source": [
    "# Fill The map with the 1 instead of 0\n",
    "new_map = fill_map(zeros, objects)"
   ]
  },
  {
   "cell_type": "code",
   "execution_count": null,
   "id": "3666c595",
   "metadata": {},
   "outputs": [],
   "source": [
    "# Initialization the score\n",
    "score = 0\n",
    "\n",
    "while check_array(new_map):\n",
    "    for i in new_map:\n",
    "        print(i)\n",
    "    print(f\"Your Actual Score: {score}\")\n",
    "    print(\"\\n\",\"Possible Movements: \", MOVEMENT)\n",
    "    move = input(\"Where do you want to move? \").lower()\n",
    "    \n",
    "    if find_PG(new_map) in objects:\n",
    "        score += 1\n",
    "    \n",
    "    if move == MOVEMENT[0]:\n",
    "        pos = find_PG(new_map)\n",
    "        new_p = (pos[0]-1, pos[1])\n",
    "        if not validity_movement(new_map, new_p):\n",
    "            print(\"Enter a valid move\")\n",
    "            continue\n",
    "        new_map = make_move(new_map, new_p)\n",
    "    elif move == MOVEMENT[1]:\n",
    "        pos = find_PG(new_map)\n",
    "        new_p = (pos[0], pos[1]-1)\n",
    "        if not validity_movement(new_map, new_p):\n",
    "            print(\"Enter a valid move\")\n",
    "            continue\n",
    "        new_map = make_move(new_map, new_p)\n",
    "    elif move == MOVEMENT[2]:\n",
    "        pos = find_PG(new_map)\n",
    "        new_p = (pos[0]+1, pos[1])\n",
    "        if not validity_movement(new_map, new_p):\n",
    "            print(\"Enter a valid move\")\n",
    "            continue\n",
    "        new_map = make_move(new_map, new_p)\n",
    "    elif move == MOVEMENT[3]:\n",
    "        pos = find_PG(new_map)\n",
    "        new_p = (pos[0], pos[1]+1)\n",
    "        if not validity_movement(new_map, new_p):\n",
    "            print(\"Enter a valid move\")\n",
    "            continue\n",
    "        new_map = make_move(new_map, new_p)\n"
   ]
  }
 ],
 "metadata": {
  "kernelspec": {
   "display_name": "Python 3 (ipykernel)",
   "language": "python",
   "name": "python3"
  },
  "language_info": {
   "codemirror_mode": {
    "name": "ipython",
    "version": 3
   },
   "file_extension": ".py",
   "mimetype": "text/x-python",
   "name": "python",
   "nbconvert_exporter": "python",
   "pygments_lexer": "ipython3",
   "version": "3.9.13"
  }
 },
 "nbformat": 4,
 "nbformat_minor": 5
}
